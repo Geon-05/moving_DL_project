{
 "cells": [
  {
   "cell_type": "code",
   "execution_count": 1,
   "id": "06a5aec9-7ee3-4eca-af3c-a7a270d1e514",
   "metadata": {},
   "outputs": [
    {
     "name": "stdout",
     "output_type": "stream",
     "text": [
      "1준비하세요\n",
      "2준비하세요\n",
      "3준비하세요\n",
      "4준비하세요\n",
      "5준비하세요\n",
      "6준비하세요\n",
      "7준비하세요\n",
      "8준비하세요\n",
      "9준비하세요\n",
      "10준비하세요\n"
     ]
    }
   ],
   "source": [
    "import cv2\n",
    "import os\n",
    "import time\n",
    "\n",
    "# 각 제스처 폴더 설정 (가위, 바위, 보)\n",
    "gesture = 'scissors'  # 'rock', 'paper', 'scissors'로 변경하면서 수집\n",
    "output_dir = f'dataset/{gesture}'\n",
    "os.makedirs(output_dir, exist_ok=True)\n",
    "\n",
    "cap = cv2.VideoCapture(0)\n",
    "count = 0\n",
    "\n",
    "while True:\n",
    "    ret, frame = cap.read()\n",
    "    if not ret:\n",
    "        break\n",
    "    \n",
    "    time.sleep(1)\n",
    "    # 이미지를 저장\n",
    "    cv2.imwrite(os.path.join(output_dir, f'{count}.jpg'), frame)\n",
    "    count += 1\n",
    "    print(f'{count}준비하세요')\n",
    "\n",
    "    cv2.imshow('Collecting Data', frame)\n",
    "    if cv2.waitKey(1) & 0xFF == ord('q') or count >= 10:  # 100장의 이미지를 저장\n",
    "        break\n",
    "\n",
    "cap.release()\n",
    "cv2.destroyAllWindows()"
   ]
  },
  {
   "cell_type": "code",
   "execution_count": null,
   "id": "b30603da-eea9-4260-b41c-d08dc2e11f98",
   "metadata": {},
   "outputs": [],
   "source": []
  }
 ],
 "metadata": {
  "kernelspec": {
   "display_name": "py09",
   "language": "python",
   "name": "python3"
  },
  "language_info": {
   "codemirror_mode": {
    "name": "ipython",
    "version": 3
   },
   "file_extension": ".py",
   "mimetype": "text/x-python",
   "name": "python",
   "nbconvert_exporter": "python",
   "pygments_lexer": "ipython3",
   "version": "3.9.20"
  }
 },
 "nbformat": 4,
 "nbformat_minor": 5
}
