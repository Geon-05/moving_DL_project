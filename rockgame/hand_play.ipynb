{
 "cells": [
  {
   "cell_type": "code",
   "execution_count": null,
   "id": "3adc2db2",
   "metadata": {},
   "outputs": [],
   "source": [
    "# !pip install --upgrade tensorflow"
   ]
  },
  {
   "cell_type": "code",
   "execution_count": 2,
   "id": "520d3dee",
   "metadata": {},
   "outputs": [],
   "source": [
    "import cv2\n",
    "import tensorflow as tf\n",
    "import numpy as np\n",
    "from torchvision import transforms"
   ]
  },
  {
   "cell_type": "code",
   "execution_count": 1,
   "id": "bfd0f9b0",
   "metadata": {},
   "outputs": [],
   "source": [
    "from tensorflow.keras.models import load_model\n",
    "\n",
    "# 모델 불러오기\n",
    "model = load_model('dataset/model/best_model003.keras')"
   ]
  },
  {
   "cell_type": "code",
   "execution_count": 12,
   "id": "538cb00a-e17c-4f99-b0de-b774debb9f76",
   "metadata": {},
   "outputs": [],
   "source": [
    "# # 실시간 예측 코드\n",
    "# cap = cv2.VideoCapture(0)\n",
    "# while True:\n",
    "#     ret, frame = cap.read()\n",
    "#     if not ret:\n",
    "#         break\n",
    "\n",
    "#     # 전처리 및 예측\n",
    "#     image = cv2.resize(frame, (128, 128))\n",
    "#     image = transforms.ToTensor()(image).unsqueeze(0).numpy()\n",
    "#     image = np.transpose(image, (0, 2, 3, 1))\n",
    "#     image = tf.convert_to_tensor(image)\n",
    "    \n",
    "#     output = model(image, training=False)\n",
    "#     predicted = tf.argmax(output, axis=1).numpy()\n",
    "    \n",
    "#     # 예측 결과 표시\n",
    "#     if predicted == 0:\n",
    "#         text = 'Rock'\n",
    "#     elif predicted == 1:\n",
    "#         text = 'Paper'\n",
    "#     else:\n",
    "#         text = 'Scissors'\n",
    "        \n",
    "#     cv2.putText(frame, text, (10, 50), cv2.FONT_HERSHEY_SIMPLEX, 1, (0, 255, 0), 2)\n",
    "#     cv2.imshow('Rock Paper Scissors', frame)\n",
    "    \n",
    "#     if cv2.waitKey(1) & 0xFF == ord('q'):\n",
    "#         break\n",
    "\n",
    "# cap.release()\n",
    "# cv2.destroyAllWindows()"
   ]
  },
  {
   "cell_type": "code",
   "execution_count": 3,
   "id": "c9843482",
   "metadata": {},
   "outputs": [],
   "source": [
    "import cv2\n",
    "import tensorflow as tf\n",
    "import numpy as np\n",
    "from torchvision import transforms\n",
    "\n",
    "# 전처리 변환 정의 (모델 학습 시와 일치하도록)\n",
    "preprocess = transforms.Compose([\n",
    "    transforms.ToPILImage(),\n",
    "    transforms.Resize((224, 224)),\n",
    "    transforms.ToTensor(),\n",
    "    transforms.Normalize((0.5, 0.5, 0.5), (0.5, 0.5, 0.5))  # RGB 정규화 적용\n",
    "])\n",
    "\n",
    "# 실시간 예측 코드\n",
    "cap = cv2.VideoCapture(0)\n",
    "while True:\n",
    "    ret, frame = cap.read()\n",
    "    if not ret:\n",
    "        break\n",
    "\n",
    "    # 전처리 및 예측\n",
    "    image = preprocess(frame).unsqueeze(0).numpy()  # (1, 3, 224, 224) 형식\n",
    "    image = np.transpose(image, (0, 2, 3, 1))       # (1, 224, 224, 3) 형식으로 변경\n",
    "    image = tf.convert_to_tensor(image)\n",
    "\n",
    "    # 모델 예측\n",
    "    output = model(image)  # Keras 모델 예측\n",
    "    \n",
    "    predicted = np.argmax(output)\n",
    "    \n",
    "\n",
    "    # 예측 결과 표시\n",
    "    if predicted == 0:\n",
    "        text = 'scissors'\n",
    "    elif predicted == 1:\n",
    "        text = 'rock'\n",
    "    elif predicted == 2:\n",
    "        text = 'paper'\n",
    "    else:\n",
    "        text = 'None'\n",
    "        \n",
    "    cv2.putText(frame, text, (10, 50), cv2.FONT_HERSHEY_SIMPLEX, 1, (0, 255, 0), 2)\n",
    "    cv2.imshow('Rock Paper Scissors', frame)\n",
    "    \n",
    "    if cv2.waitKey(1) & 0xFF == ord('q'):\n",
    "        break\n",
    "\n",
    "cap.release()\n",
    "cv2.destroyAllWindows()"
   ]
  },
  {
   "cell_type": "code",
   "execution_count": null,
   "id": "217862c2",
   "metadata": {},
   "outputs": [],
   "source": []
  }
 ],
 "metadata": {
  "kernelspec": {
   "display_name": "motionpy310",
   "language": "python",
   "name": "python3"
  },
  "language_info": {
   "codemirror_mode": {
    "name": "ipython",
    "version": 3
   },
   "file_extension": ".py",
   "mimetype": "text/x-python",
   "name": "python",
   "nbconvert_exporter": "python",
   "pygments_lexer": "ipython3",
   "version": "3.10.15"
  }
 },
 "nbformat": 4,
 "nbformat_minor": 5
}
