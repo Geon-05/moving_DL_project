{
 "cells": [
  {
   "cell_type": "code",
   "execution_count": 1,
   "metadata": {},
   "outputs": [],
   "source": [
    "from PIL import Image\n",
    "import glob\n",
    "\n",
    "def resize_images(img_path):\n",
    "\timages=glob.glob(img_path + \"/*.jpg\")  \n",
    "    \n",
    "\tprint(len(images), \" images to be resized.\")\n",
    "\n",
    "    # 파일마다 모두 128*128 사이즈로 바꾸어 저장합니다.\n",
    "\ttarget_size=(224,224)\n",
    "\tfor img in images:\n",
    "\t\told_img=Image.open(img)\n",
    "\t\tnew_img=old_img.resize(target_size,Image.ANTIALIAS)\n",
    "\t\tnew_img.save(img, \"JPEG\")\n",
    "    \n",
    "\tprint(len(images), \" images resized.\")"
   ]
  },
  {
   "cell_type": "code",
   "execution_count": 2,
   "metadata": {},
   "outputs": [
    {
     "name": "stdout",
     "output_type": "stream",
     "text": [
      "0  images to be resized.\n",
      "0  images resized.\n",
      "가위 이미지 resize 완료!\n"
     ]
    }
   ],
   "source": [
    "# 가위 이미지가 저장된 디렉토리 아래의 모든 jpg 파일을 읽어들여서\n",
    "image_dir_path = r\"moving\\rockgame\\dataset\\scissors\"\n",
    "resize_images(image_dir_path)\n",
    "\n",
    "print(\"가위 이미지 resize 완료!\")"
   ]
  },
  {
   "cell_type": "code",
   "execution_count": 3,
   "metadata": {},
   "outputs": [
    {
     "name": "stdout",
     "output_type": "stream",
     "text": [
      "0  images to be resized.\n",
      "0  images resized.\n",
      "바위 이미지 resize 완료!\n"
     ]
    }
   ],
   "source": [
    "# 바위 이미지가 저장된 디렉토리 아래의 모든 jpg 파일을 읽어들여서\n",
    "image_dir_path = r\"moving\\rockgame\\dataset\\rock\"\n",
    "resize_images(image_dir_path)\n",
    "\n",
    "print(\"바위 이미지 resize 완료!\")"
   ]
  },
  {
   "cell_type": "code",
   "execution_count": 4,
   "metadata": {},
   "outputs": [
    {
     "name": "stdout",
     "output_type": "stream",
     "text": [
      "0  images to be resized.\n",
      "0  images resized.\n",
      "보 이미지 resize 완료!\n"
     ]
    }
   ],
   "source": [
    "# 보 이미지가 저장된 디렉토리 아래의 모든 jpg 파일을 읽어들여서\n",
    "image_dir_path = r\"moving\\rockgame\\dataset\\paper\"\n",
    "resize_images(image_dir_path)\n",
    "\n",
    "print(\"보 이미지 resize 완료!\")"
   ]
  },
  {
   "cell_type": "code",
   "execution_count": 5,
   "metadata": {},
   "outputs": [],
   "source": [
    "# !pip install matplotlib\n",
    "# !pip install scikit-learn\n",
    "# !pip install scipy"
   ]
  },
  {
   "cell_type": "code",
   "execution_count": 6,
   "metadata": {},
   "outputs": [
    {
     "name": "stdout",
     "output_type": "stream",
     "text": [
      "학습데이터(x_train)의 이미지 개수는 7491 입니다.\n",
      "x_train shape: (4494, 224, 224, 3)\n",
      "y_train shape: (4494,)\n"
     ]
    }
   ],
   "source": [
    "import numpy as np\n",
    "import os\n",
    "import matplotlib.pyplot as plt\n",
    "from PIL import Image\n",
    "from sklearn.model_selection import train_test_split\n",
    "\n",
    "def load_data(img_path, number_of_data=7491):  # 가위바위보 이미지 개수 총합에 주의하세요.\n",
    "    # 가위 : 0, 바위 : 1, 보 : 2\n",
    "    img_size=224\n",
    "    color=3\n",
    "    #이미지 데이터와 라벨(가위 : 0, 바위 : 1, 보 : 2) 데이터를 담을 행렬(matrix) 영역을 생성합니다.\n",
    "    imgs=np.zeros(number_of_data*img_size*img_size*color,dtype=np.float32).reshape(number_of_data,img_size,img_size,color)\n",
    "    labels=np.zeros(number_of_data,dtype=np.float32)\n",
    "\n",
    "    idx=0\n",
    "    for file in glob.iglob(img_path+'/scissors/*.jpg'):\n",
    "        img = Image.open(file).resize((img_size, img_size))  # 크기를 (28, 28)로 변경\n",
    "        img = np.array(img, dtype=np.float32)\n",
    "        imgs[idx,:,:,:]=img    # 데이터 영역에 이미지 행렬을 복사\n",
    "        labels[idx]=0   # 가위 : 0\n",
    "        idx=idx+1\n",
    "\n",
    "    for file in glob.iglob(img_path+'/rock/*.jpg'):\n",
    "        img = Image.open(file).resize((img_size, img_size))  # 크기를 (28, 28)로 변경\n",
    "        img = np.array(img, dtype=np.float32)\n",
    "        imgs[idx,:,:,:]=img    # 데이터 영역에 이미지 행렬을 복사\n",
    "        labels[idx]=1   # 바위 : 1\n",
    "        idx=idx+1  \n",
    "    \n",
    "    for file in glob.iglob(img_path+'/paper/*.jpg'):\n",
    "        img = Image.open(file).resize((img_size, img_size))  # 크기를 (28, 28)로 변경\n",
    "        img = np.array(img, dtype=np.float32)\n",
    "        imgs[idx,:,:,:]=img    # 데이터 영역에 이미지 행렬을 복사\n",
    "        labels[idx]=2   # 보 : 2\n",
    "        idx=idx+1\n",
    "        \n",
    "    print(\"학습데이터(x_train)의 이미지 개수는\", idx,\"입니다.\")\n",
    "    return imgs, labels\n",
    "\n",
    "image_dir_path = \"dataset\" #폴더명\n",
    "(X, y)=load_data(image_dir_path)\n",
    "\n",
    "X_train, X_val, y_train, y_val = train_test_split(X, y, test_size=0.4, random_state=0, stratify=y)\n",
    "X_val, X_test, y_val, y_test = train_test_split(X_val, y_val, test_size=0.4, random_state=0, stratify=y_val)\n",
    "\n",
    "x_train_norm = X_train/255.0   # 입력은 0~1 사이의 값으로 정규화\n",
    "x_val_norm = X_val/255.0\n",
    "print(\"x_train shape: {}\".format(X_train.shape))\n",
    "print(\"y_train shape: {}\".format(y_train.shape))"
   ]
  },
  {
   "cell_type": "code",
   "execution_count": 7,
   "metadata": {},
   "outputs": [],
   "source": [
    "import tensorflow as tf\n",
    "from tensorflow.keras import layers, models\n",
    "from tensorflow.keras.applications import ResNet50\n",
    "from tensorflow import keras\n",
    "\n",
    "# 사전 학습된 ResNet50 모델을 불러오고 마지막 분류 레이어를 제외합니다.\n",
    "base_model = ResNet50(weights='imagenet', include_top=False, input_shape=(224, 224, 3))\n",
    "base_model.trainable = False  # 사전 학습된 가중치를 고정합니다.\n",
    "\n",
    "# 새로운 모델 구성\n",
    "model = models.Sequential([\n",
    "    base_model,\n",
    "    layers.GlobalAveragePooling2D(),  # 평탄화 작업\n",
    "    layers.Dense(128, activation='relu'),  # 추가 레이어\n",
    "    layers.Dropout(0.5),  # 과적합 방지를 위한 드롭아웃\n",
    "    layers.Dense(3, activation='softmax')  # 가위, 바위, 보 3개 클래스를 위한 출력 레이어\n",
    "])\n"
   ]
  },
  {
   "cell_type": "code",
   "execution_count": 8,
   "metadata": {},
   "outputs": [],
   "source": [
    "# import tensorflow as tf\n",
    "# from tensorflow import keras\n",
    "# from tensorflow.keras import layers, models\n",
    "# import numpy as np\n",
    "\n",
    "# model = models.Sequential()\n",
    "# model.add(layers.Input(shape=(128, 128, 3)))  # 입력 크기 지정\n",
    "# model.add(layers.Conv2D(32, (3, 3), activation='relu'))\n",
    "# model.add(keras.layers.MaxPool2D(2,2))\n",
    "# model.add(keras.layers.Conv2D(64, (3,3), activation='relu'))\n",
    "# model.add(keras.layers.BatchNormalization())\n",
    "# model.add(keras.layers.MaxPooling2D((2,2)))\n",
    "# model.add(keras.layers.Dropout(0.5))\n",
    "# model.add(keras.layers.Flatten())\n",
    "# model.add(keras.layers.Dense(128, activation='relu', kernel_regularizer=keras.regularizers.l2(0.01)))\n",
    "# model.add(keras.layers.Dropout(0.5))\n",
    "# model.add(keras.layers.Dense(3, activation='softmax'))\n",
    "# # 😎쌤Tip.\n",
    "# # pretrained model을 써서 가위, 바위, 보 데이터셋을 가지고 fine-tune 파인튜닝 하고 싶어.\n",
    "# # timeframe, temporal modeling\n",
    "# model.summary()"
   ]
  },
  {
   "cell_type": "code",
   "execution_count": null,
   "metadata": {},
   "outputs": [
    {
     "name": "stderr",
     "output_type": "stream",
     "text": [
      "c:\\Users\\zqrc0\\anaconda3\\envs\\motionpy310\\lib\\site-packages\\keras\\src\\trainers\\data_adapters\\py_dataset_adapter.py:121: UserWarning: Your `PyDataset` class should call `super().__init__(**kwargs)` in its constructor. `**kwargs` can include `workers`, `use_multiprocessing`, `max_queue_size`. Do not pass these arguments to `fit()`, as they will be ignored.\n",
      "  self._warn_if_super_not_called()\n"
     ]
    },
    {
     "name": "stdout",
     "output_type": "stream",
     "text": [
      "Epoch 1/100\n",
      "\u001b[1m141/141\u001b[0m \u001b[32m━━━━━━━━━━━━━━━━━━━━\u001b[0m\u001b[37m\u001b[0m \u001b[1m114s\u001b[0m 784ms/step - accuracy: 0.3378 - loss: 1.4107 - val_accuracy: 0.3309 - val_loss: 1.1182\n",
      "Epoch 2/100\n",
      "\u001b[1m141/141\u001b[0m \u001b[32m━━━━━━━━━━━━━━━━━━━━\u001b[0m\u001b[37m\u001b[0m \u001b[1m110s\u001b[0m 779ms/step - accuracy: 0.3461 - loss: 1.2460 - val_accuracy: 0.3331 - val_loss: 1.1011\n",
      "Epoch 3/100\n",
      "\u001b[1m141/141\u001b[0m \u001b[32m━━━━━━━━━━━━━━━━━━━━\u001b[0m\u001b[37m\u001b[0m \u001b[1m108s\u001b[0m 770ms/step - accuracy: 0.3303 - loss: 1.2442 - val_accuracy: 0.3565 - val_loss: 1.0992\n",
      "Epoch 4/100\n",
      "\u001b[1m141/141\u001b[0m \u001b[32m━━━━━━━━━━━━━━━━━━━━\u001b[0m\u001b[37m\u001b[0m \u001b[1m107s\u001b[0m 761ms/step - accuracy: 0.3452 - loss: 1.2032 - val_accuracy: 0.3404 - val_loss: 1.0976\n",
      "Epoch 5/100\n",
      "\u001b[1m141/141\u001b[0m \u001b[32m━━━━━━━━━━━━━━━━━━━━\u001b[0m\u001b[37m\u001b[0m \u001b[1m109s\u001b[0m 771ms/step - accuracy: 0.3203 - loss: 1.1991 - val_accuracy: 0.3526 - val_loss: 1.0963\n",
      "Epoch 6/100\n",
      "\u001b[1m141/141\u001b[0m \u001b[32m━━━━━━━━━━━━━━━━━━━━\u001b[0m\u001b[37m\u001b[0m \u001b[1m106s\u001b[0m 752ms/step - accuracy: 0.3433 - loss: 1.1744 - val_accuracy: 0.3459 - val_loss: 1.0951\n",
      "Epoch 7/100\n",
      "\u001b[1m141/141\u001b[0m \u001b[32m━━━━━━━━━━━━━━━━━━━━\u001b[0m\u001b[37m\u001b[0m \u001b[1m106s\u001b[0m 753ms/step - accuracy: 0.3163 - loss: 1.1741 - val_accuracy: 0.3615 - val_loss: 1.0940\n",
      "Epoch 8/100\n",
      "\u001b[1m141/141\u001b[0m \u001b[32m━━━━━━━━━━━━━━━━━━━━\u001b[0m\u001b[37m\u001b[0m \u001b[1m107s\u001b[0m 758ms/step - accuracy: 0.3381 - loss: 1.1471 - val_accuracy: 0.3804 - val_loss: 1.0923\n",
      "Epoch 9/100\n",
      "\u001b[1m141/141\u001b[0m \u001b[32m━━━━━━━━━━━━━━━━━━━━\u001b[0m\u001b[37m\u001b[0m \u001b[1m110s\u001b[0m 778ms/step - accuracy: 0.3489 - loss: 1.1340 - val_accuracy: 0.3960 - val_loss: 1.0904\n",
      "Epoch 10/100\n",
      "\u001b[1m141/141\u001b[0m \u001b[32m━━━━━━━━━━━━━━━━━━━━\u001b[0m\u001b[37m\u001b[0m \u001b[1m118s\u001b[0m 838ms/step - accuracy: 0.3315 - loss: 1.1254 - val_accuracy: 0.3504 - val_loss: 1.0899\n",
      "Epoch 11/100\n",
      "\u001b[1m141/141\u001b[0m \u001b[32m━━━━━━━━━━━━━━━━━━━━\u001b[0m\u001b[37m\u001b[0m \u001b[1m107s\u001b[0m 761ms/step - accuracy: 0.3655 - loss: 1.1099 - val_accuracy: 0.3815 - val_loss: 1.0881\n",
      "Epoch 12/100\n",
      "\u001b[1m141/141\u001b[0m \u001b[32m━━━━━━━━━━━━━━━━━━━━\u001b[0m\u001b[37m\u001b[0m \u001b[1m114s\u001b[0m 806ms/step - accuracy: 0.3559 - loss: 1.1149 - val_accuracy: 0.3938 - val_loss: 1.0870\n",
      "Epoch 13/100\n",
      "\u001b[1m141/141\u001b[0m \u001b[32m━━━━━━━━━━━━━━━━━━━━\u001b[0m\u001b[37m\u001b[0m \u001b[1m142s\u001b[0m 1s/step - accuracy: 0.3394 - loss: 1.1148 - val_accuracy: 0.3893 - val_loss: 1.0863\n",
      "Epoch 14/100\n",
      "\u001b[1m141/141\u001b[0m \u001b[32m━━━━━━━━━━━━━━━━━━━━\u001b[0m\u001b[37m\u001b[0m \u001b[1m348s\u001b[0m 2s/step - accuracy: 0.3624 - loss: 1.1051 - val_accuracy: 0.3954 - val_loss: 1.0859\n",
      "Epoch 15/100\n",
      "\u001b[1m141/141\u001b[0m \u001b[32m━━━━━━━━━━━━━━━━━━━━\u001b[0m\u001b[37m\u001b[0m \u001b[1m240s\u001b[0m 2s/step - accuracy: 0.3703 - loss: 1.0957 - val_accuracy: 0.3854 - val_loss: 1.0845\n",
      "Epoch 16/100\n",
      "\u001b[1m141/141\u001b[0m \u001b[32m━━━━━━━━━━━━━━━━━━━━\u001b[0m\u001b[37m\u001b[0m \u001b[1m111s\u001b[0m 787ms/step - accuracy: 0.3768 - loss: 1.0916 - val_accuracy: 0.3804 - val_loss: 1.0837\n",
      "Epoch 17/100\n",
      "\u001b[1m141/141\u001b[0m \u001b[32m━━━━━━━━━━━━━━━━━━━━\u001b[0m\u001b[37m\u001b[0m \u001b[1m112s\u001b[0m 793ms/step - accuracy: 0.3619 - loss: 1.0949 - val_accuracy: 0.3938 - val_loss: 1.0826\n",
      "Epoch 18/100\n",
      "\u001b[1m141/141\u001b[0m \u001b[32m━━━━━━━━━━━━━━━━━━━━\u001b[0m\u001b[37m\u001b[0m \u001b[1m108s\u001b[0m 766ms/step - accuracy: 0.3704 - loss: 1.0930 - val_accuracy: 0.3843 - val_loss: 1.0819\n",
      "Epoch 19/100\n",
      "\u001b[1m141/141\u001b[0m \u001b[32m━━━━━━━━━━━━━━━━━━━━\u001b[0m\u001b[37m\u001b[0m \u001b[1m108s\u001b[0m 766ms/step - accuracy: 0.3732 - loss: 1.0907 - val_accuracy: 0.3949 - val_loss: 1.0809\n",
      "Epoch 20/100\n",
      "\u001b[1m141/141\u001b[0m \u001b[32m━━━━━━━━━━━━━━━━━━━━\u001b[0m\u001b[37m\u001b[0m \u001b[1m110s\u001b[0m 781ms/step - accuracy: 0.3596 - loss: 1.0918 - val_accuracy: 0.3882 - val_loss: 1.0802\n",
      "Epoch 21/100\n",
      "\u001b[1m141/141\u001b[0m \u001b[32m━━━━━━━━━━━━━━━━━━━━\u001b[0m\u001b[37m\u001b[0m \u001b[1m106s\u001b[0m 755ms/step - accuracy: 0.3548 - loss: 1.0887 - val_accuracy: 0.3871 - val_loss: 1.0795\n",
      "Epoch 22/100\n",
      "\u001b[1m141/141\u001b[0m \u001b[32m━━━━━━━━━━━━━━━━━━━━\u001b[0m\u001b[37m\u001b[0m \u001b[1m107s\u001b[0m 760ms/step - accuracy: 0.3706 - loss: 1.0909 - val_accuracy: 0.3865 - val_loss: 1.0786\n",
      "Epoch 23/100\n",
      "\u001b[1m141/141\u001b[0m \u001b[32m━━━━━━━━━━━━━━━━━━━━\u001b[0m\u001b[37m\u001b[0m \u001b[1m128s\u001b[0m 912ms/step - accuracy: 0.3839 - loss: 1.0867 - val_accuracy: 0.4010 - val_loss: 1.0778\n",
      "Epoch 24/100\n",
      "\u001b[1m141/141\u001b[0m \u001b[32m━━━━━━━━━━━━━━━━━━━━\u001b[0m\u001b[37m\u001b[0m \u001b[1m370s\u001b[0m 3s/step - accuracy: 0.3805 - loss: 1.0843 - val_accuracy: 0.3804 - val_loss: 1.0772\n",
      "Epoch 25/100\n",
      "\u001b[1m141/141\u001b[0m \u001b[32m━━━━━━━━━━━━━━━━━━━━\u001b[0m\u001b[37m\u001b[0m \u001b[1m368s\u001b[0m 3s/step - accuracy: 0.3912 - loss: 1.0796 - val_accuracy: 0.4299 - val_loss: 1.0765\n",
      "Epoch 26/100\n",
      "\u001b[1m141/141\u001b[0m \u001b[32m━━━━━━━━━━━━━━━━━━━━\u001b[0m\u001b[37m\u001b[0m \u001b[1m336s\u001b[0m 2s/step - accuracy: 0.3774 - loss: 1.0856 - val_accuracy: 0.4016 - val_loss: 1.0756\n",
      "Epoch 27/100\n",
      "\u001b[1m141/141\u001b[0m \u001b[32m━━━━━━━━━━━━━━━━━━━━\u001b[0m\u001b[37m\u001b[0m \u001b[1m110s\u001b[0m 777ms/step - accuracy: 0.3824 - loss: 1.0795 - val_accuracy: 0.3749 - val_loss: 1.0751\n",
      "Epoch 28/100\n",
      "\u001b[1m141/141\u001b[0m \u001b[32m━━━━━━━━━━━━━━━━━━━━\u001b[0m\u001b[37m\u001b[0m \u001b[1m109s\u001b[0m 771ms/step - accuracy: 0.3985 - loss: 1.0802 - val_accuracy: 0.4349 - val_loss: 1.0748\n",
      "Epoch 29/100\n",
      "\u001b[1m141/141\u001b[0m \u001b[32m━━━━━━━━━━━━━━━━━━━━\u001b[0m\u001b[37m\u001b[0m \u001b[1m198s\u001b[0m 1s/step - accuracy: 0.3916 - loss: 1.0803 - val_accuracy: 0.3882 - val_loss: 1.0738\n",
      "Epoch 30/100\n",
      "\u001b[1m141/141\u001b[0m \u001b[32m━━━━━━━━━━━━━━━━━━━━\u001b[0m\u001b[37m\u001b[0m \u001b[1m127s\u001b[0m 888ms/step - accuracy: 0.4049 - loss: 1.0801 - val_accuracy: 0.4177 - val_loss: 1.0727\n",
      "Epoch 31/100\n",
      "\u001b[1m141/141\u001b[0m \u001b[32m━━━━━━━━━━━━━━━━━━━━\u001b[0m\u001b[37m\u001b[0m \u001b[1m152s\u001b[0m 1s/step - accuracy: 0.3898 - loss: 1.0786 - val_accuracy: 0.4694 - val_loss: 1.0721\n",
      "Epoch 32/100\n",
      "\u001b[1m141/141\u001b[0m \u001b[32m━━━━━━━━━━━━━━━━━━━━\u001b[0m\u001b[37m\u001b[0m \u001b[1m221s\u001b[0m 2s/step - accuracy: 0.3777 - loss: 1.0796 - val_accuracy: 0.4138 - val_loss: 1.0712\n",
      "Epoch 33/100\n",
      "\u001b[1m141/141\u001b[0m \u001b[32m━━━━━━━━━━━━━━━━━━━━\u001b[0m\u001b[37m\u001b[0m \u001b[1m171s\u001b[0m 1s/step - accuracy: 0.3966 - loss: 1.0760 - val_accuracy: 0.4021 - val_loss: 1.0703\n",
      "Epoch 34/100\n",
      "\u001b[1m141/141\u001b[0m \u001b[32m━━━━━━━━━━━━━━━━━━━━\u001b[0m\u001b[37m\u001b[0m \u001b[1m406s\u001b[0m 3s/step - accuracy: 0.4016 - loss: 1.0760 - val_accuracy: 0.4677 - val_loss: 1.0698\n",
      "Epoch 35/100\n",
      "\u001b[1m141/141\u001b[0m \u001b[32m━━━━━━━━━━━━━━━━━━━━\u001b[0m\u001b[37m\u001b[0m \u001b[1m396s\u001b[0m 3s/step - accuracy: 0.3960 - loss: 1.0782 - val_accuracy: 0.4199 - val_loss: 1.0699\n",
      "Epoch 36/100\n",
      "\u001b[1m141/141\u001b[0m \u001b[32m━━━━━━━━━━━━━━━━━━━━\u001b[0m\u001b[37m\u001b[0m \u001b[1m402s\u001b[0m 3s/step - accuracy: 0.4026 - loss: 1.0769 - val_accuracy: 0.4438 - val_loss: 1.0691\n",
      "Epoch 37/100\n",
      "\u001b[1m141/141\u001b[0m \u001b[32m━━━━━━━━━━━━━━━━━━━━\u001b[0m\u001b[37m\u001b[0m \u001b[1m389s\u001b[0m 3s/step - accuracy: 0.3997 - loss: 1.0765 - val_accuracy: 0.4672 - val_loss: 1.0687\n",
      "Epoch 38/100\n",
      "\u001b[1m141/141\u001b[0m \u001b[32m━━━━━━━━━━━━━━━━━━━━\u001b[0m\u001b[37m\u001b[0m \u001b[1m417s\u001b[0m 3s/step - accuracy: 0.4097 - loss: 1.0742 - val_accuracy: 0.4716 - val_loss: 1.0682\n",
      "Epoch 39/100\n",
      "\u001b[1m141/141\u001b[0m \u001b[32m━━━━━━━━━━━━━━━━━━━━\u001b[0m\u001b[37m\u001b[0m \u001b[1m421s\u001b[0m 3s/step - accuracy: 0.4022 - loss: 1.0748 - val_accuracy: 0.4583 - val_loss: 1.0678\n",
      "Epoch 40/100\n",
      "\u001b[1m141/141\u001b[0m \u001b[32m━━━━━━━━━━━━━━━━━━━━\u001b[0m\u001b[37m\u001b[0m \u001b[1m415s\u001b[0m 3s/step - accuracy: 0.4192 - loss: 1.0708 - val_accuracy: 0.4694 - val_loss: 1.0670\n",
      "Epoch 41/100\n",
      "\u001b[1m108/141\u001b[0m \u001b[32m━━━━━━━━━━━━━━━\u001b[0m\u001b[37m━━━━━\u001b[0m \u001b[1m1:25\u001b[0m 3s/step - accuracy: 0.3926 - loss: 1.0759"
     ]
    }
   ],
   "source": [
    "from tensorflow.keras.callbacks import ModelCheckpoint\n",
    "from tensorflow.keras.preprocessing.image import ImageDataGenerator\n",
    "import time\n",
    "import datetime\n",
    "\n",
    "optimizer = keras.optimizers.Adam(learning_rate=0.00001)\n",
    "\n",
    "model.compile(optimizer=optimizer,\n",
    "                loss='sparse_categorical_crossentropy',\n",
    "                metrics=['accuracy'])\n",
    "\n",
    "# ModelCheckpoint 콜백 설정\n",
    "checkpoint = ModelCheckpoint(\n",
    "    'dataset/model/best_model012.keras',  # 경로를 지정하여 저장\n",
    "    monitor='val_loss',\n",
    "    save_best_only=True,\n",
    "    mode='min'\n",
    ")\n",
    "\n",
    "# 데이터 증강\n",
    "start = time.time()\n",
    "datagen = ImageDataGenerator(\n",
    "    rotation_range=20,     # 이미지 회전\n",
    "    width_shift_range=0.2, # 가로로 이동\n",
    "    height_shift_range=0.2,# 세로로 이동\n",
    "    shear_range=0.2,       # 시야각 변환\n",
    "    zoom_range=0.2,        # 확대/축소\n",
    "    horizontal_flip=True,  # 좌우 반전\n",
    "    fill_mode='nearest'\n",
    ")\n",
    "\n",
    "# 증강된 이미지로 모델 학습\n",
    "model.fit(datagen.flow(x_train_norm, y_train),\n",
    "            validation_data=(x_val_norm, y_val),\n",
    "            epochs=100,\n",
    "            callbacks=[checkpoint])   # checkpoint 콜백 추가\n",
    "sec = time.time() - start\n",
    "act_time = str(datetime.timedelta(seconds=sec))\n",
    "print(act_time)\n",
    "\n",
    "# # 모델 학습\n",
    "# start = time.time()\n",
    "# model.fit(x_train_norm, y_train,\n",
    "#             validation_data=(x_val_norm, y_val),\n",
    "#             epochs=100,\n",
    "#             callbacks=[checkpoint])   # checkpoint 콜백 추가\n",
    "# sec = time.time() - start\n",
    "# act_time = str(datetime.timedelta(seconds=sec))\n",
    "# print(act_time)"
   ]
  },
  {
   "cell_type": "code",
   "execution_count": null,
   "metadata": {},
   "outputs": [
    {
     "name": "stdout",
     "output_type": "stream",
     "text": [
      "x_test shape : (1199, 224, 224, 3)\n",
      "y_test shape : (1199,)\n"
     ]
    }
   ],
   "source": [
    "import glob\n",
    "\n",
    "# image_dir_path = \"dataset/test\"\n",
    "# (x_test, y_test)=load_data(X_test, X_test.shape[0])\n",
    "x_test_norm = X_test/255.0\n",
    "\n",
    "print(\"x_test shape : {}\".format(X_test.shape))\n",
    "print(\"y_test shape : {}\".format(y_test.shape))"
   ]
  },
  {
   "cell_type": "code",
   "execution_count": null,
   "metadata": {},
   "outputs": [
    {
     "name": "stdout",
     "output_type": "stream",
     "text": [
      "38/38 - 21s - 564ms/step - accuracy: 0.5630 - loss: 1.0153\n",
      "test_loss : 1.0153329372406006\n",
      "test_accuracy : 0.5629691481590271\n"
     ]
    }
   ],
   "source": [
    "from tensorflow import keras\n",
    "# 저장된 최적의 모델 로드\n",
    "best_model = keras.models.load_model('dataset/model/best_model012.keras')\n",
    "\n",
    "# 테스트 데이터로 평가\n",
    "test_loss, test_accuracy = best_model.evaluate(x_test_norm, y_test, verbose=2)\n",
    "print(\"test_loss : {}\".format(test_loss))\n",
    "print(\"test_accuracy : {}\".format(test_accuracy))"
   ]
  },
  {
   "cell_type": "code",
   "execution_count": null,
   "metadata": {},
   "outputs": [
    {
     "name": "stdout",
     "output_type": "stream",
     "text": [
      "57/57 - 31s - 541ms/step - accuracy: 0.5473 - loss: 1.0152\n",
      "test_loss : 1.0152113437652588\n",
      "test_accuracy : 0.5472747683525085\n"
     ]
    }
   ],
   "source": [
    "# 테스트 데이터로 평가\n",
    "test_loss, test_accuracy = best_model.evaluate(x_val_norm, y_val, verbose=2)\n",
    "print(\"test_loss : {}\".format(test_loss))\n",
    "print(\"test_accuracy : {}\".format(test_accuracy))"
   ]
  },
  {
   "cell_type": "code",
   "execution_count": null,
   "metadata": {},
   "outputs": [
    {
     "name": "stdout",
     "output_type": "stream",
     "text": [
      "\u001b[1m38/38\u001b[0m \u001b[32m━━━━━━━━━━━━━━━━━━━━\u001b[0m\u001b[37m\u001b[0m \u001b[1m22s\u001b[0m 554ms/step\n",
      "model.predict() 결과 :  [0.33270252 0.34016725 0.32713023]\n",
      "model이 추론한 가장 가능성이 높은 결과 :  1\n",
      "실제 데이터의 라벨 :  2.0\n"
     ]
    }
   ],
   "source": [
    "predicted_result = best_model.predict(x_test_norm)\t# model이 추론한 확률값\n",
    "predicted_labels = np.argmax(predicted_result, axis=1)\n",
    "\n",
    "idx=100\t\t# 값을 변경해서 찾아보자\n",
    "print('model.predict() 결과 : ', predicted_result[idx])\n",
    "print('model이 추론한 가장 가능성이 높은 결과 : ', predicted_labels[idx])\n",
    "print('실제 데이터의 라벨 : ', y_test[idx])"
   ]
  },
  {
   "cell_type": "code",
   "execution_count": null,
   "metadata": {},
   "outputs": [
    {
     "name": "stdout",
     "output_type": "stream",
     "text": [
      "\u001b[1m57/57\u001b[0m \u001b[32m━━━━━━━━━━━━━━━━━━━━\u001b[0m\u001b[37m\u001b[0m \u001b[1m30s\u001b[0m 526ms/step\n",
      "              precision    recall  f1-score   support\n",
      "\n",
      "         0.0       0.49      0.79      0.61       634\n",
      "         1.0       0.59      0.47      0.52       566\n",
      "         2.0       0.67      0.36      0.47       598\n",
      "\n",
      "    accuracy                           0.55      1798\n",
      "   macro avg       0.58      0.54      0.53      1798\n",
      "weighted avg       0.58      0.55      0.53      1798\n",
      "\n"
     ]
    }
   ],
   "source": [
    "from sklearn.metrics import classification_report\n",
    "\n",
    "# 실제 레이블을 y_test에 저장했다고 가정\n",
    "# 모델 예측\n",
    "predicted_result = best_model.predict(x_val_norm)\n",
    "predicted_labels = np.argmax(predicted_result, axis=1)\n",
    "\n",
    "# 클래스별 f1 score와 accuracy 출력\n",
    "print(classification_report(y_val, predicted_labels))"
   ]
  },
  {
   "cell_type": "code",
   "execution_count": null,
   "metadata": {},
   "outputs": [
    {
     "name": "stdout",
     "output_type": "stream",
     "text": [
      "\u001b[1m57/57\u001b[0m \u001b[32m━━━━━━━━━━━━━━━━━━━━\u001b[0m\u001b[37m\u001b[0m \u001b[1m30s\u001b[0m 531ms/step\n",
      "              precision    recall  f1-score   support\n",
      "\n",
      "         0.0       0.49      0.79      0.61       634\n",
      "         1.0       0.59      0.47      0.52       566\n",
      "         2.0       0.67      0.36      0.47       598\n",
      "\n",
      "    accuracy                           0.55      1798\n",
      "   macro avg       0.58      0.54      0.53      1798\n",
      "weighted avg       0.58      0.55      0.53      1798\n",
      "\n"
     ]
    }
   ],
   "source": [
    "from sklearn.metrics import classification_report\n",
    "\n",
    "# 실제 레이블을 y_test에 저장했다고 가정\n",
    "# 모델 예측\n",
    "predicted_result = best_model.predict(x_val_norm)\n",
    "predicted_labels = np.argmax(predicted_result, axis=1)\n",
    "\n",
    "# 클래스별 f1 score와 accuracy 출력\n",
    "print(classification_report(y_val, predicted_labels))"
   ]
  },
  {
   "cell_type": "code",
   "execution_count": null,
   "metadata": {},
   "outputs": [],
   "source": [
    "# import random\n",
    "# wrong_predict_list=[]\n",
    "# for i, _ in enumerate(predicted_labels):\n",
    "#     if predicted_labels[i] != y_test[i]:\n",
    "#         wrong_predict_list.append(i)\n",
    "        \n",
    "# samples = random.choices(population=wrong_predict_list, k=10) # k값을 수정하면 더 많은 값의 수를 볼 수 있다.\n",
    "\n",
    "# for n in samples:\n",
    "#     print(\"예측확률분포: \" + str(predicted_result[n]))\n",
    "#     print(\"라벨: \" + str(y_test[n]) + \", 예측결과: \" + str(predicted_labels[n]))\n",
    "#     # plt.imshow(x_test[n], cmap=plt.cm.binary)\n",
    "#     print(n)\n",
    "#     # plt.show()"
   ]
  },
  {
   "cell_type": "code",
   "execution_count": null,
   "metadata": {},
   "outputs": [],
   "source": [
    "# model.save('dataset/model/model.keras', include_optimizer=False)"
   ]
  },
  {
   "cell_type": "code",
   "execution_count": null,
   "metadata": {},
   "outputs": [],
   "source": []
  }
 ],
 "metadata": {
  "kernelspec": {
   "display_name": "motionpy310",
   "language": "python",
   "name": "python3"
  },
  "language_info": {
   "codemirror_mode": {
    "name": "ipython",
    "version": 3
   },
   "file_extension": ".py",
   "mimetype": "text/x-python",
   "name": "python",
   "nbconvert_exporter": "python",
   "pygments_lexer": "ipython3",
   "version": "3.10.15"
  }
 },
 "nbformat": 4,
 "nbformat_minor": 2
}
